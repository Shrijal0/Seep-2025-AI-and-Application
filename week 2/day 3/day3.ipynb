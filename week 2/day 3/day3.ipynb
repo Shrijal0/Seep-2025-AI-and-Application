{
  "cells": [
    {
      "cell_type": "markdown",
      "metadata": {
        "id": "Nm_7B4Ex9H_q"
      },
      "source": [
        "# Hands-On Practice: Probability Basics for AI"
      ]
    },
    {
      "cell_type": "markdown",
      "metadata": {
        "id": "jGn0JatA9OLv"
      },
      "source": [
        "## EXERCISE1: THEORETICAL PROBABILITY"
      ]
    },
    {
      "cell_type": "code",
      "execution_count": null,
      "metadata": {
        "colab": {
          "base_uri": "https://localhost:8080/"
        },
        "id": "ZEEY81D56fGg",
        "outputId": "900894a6-2bed-4ecb-b4fd-6e6bf5b2c182"
      },
      "outputs": [
        {
          "name": "stdout",
          "output_type": "stream",
          "text": [
            "0.16666666666666666\n"
          ]
        }
      ],
      "source": [
        "# Declaring fav and total outcome for rolling 1 on a die!\n",
        "favourable_outcome = 1\n",
        "total_outcome = 6\n",
        "\n",
        "probability = favourable_outcome/total_outcome\n",
        "print(probability)\n",
        "\n",
        "# Task 1: Calculate the theoretical probability of drawing a red card from a\n",
        "# standard deck of 52 cards (26 red cards). Print the result."
      ]
    },
    {
      "cell_type": "markdown",
      "metadata": {
        "id": "CoFB4BvoJ80o"
      },
      "source": [
        "## EXPERIMENTAL PROBABILITY"
      ]
    },
    {
      "cell_type": "code",
      "execution_count": null,
      "metadata": {
        "colab": {
          "base_uri": "https://localhost:8080/"
        },
        "id": "aEq5jysiJy4i",
        "outputId": "17c757ed-09e7-43e7-eddc-67a44e30ab6f"
      },
      "outputs": [
        {
          "name": "stdout",
          "output_type": "stream",
          "text": [
            "0.49\n"
          ]
        }
      ],
      "source": [
        "import random\n",
        "\n",
        "trials = 100\n",
        "heads =  0\n",
        "\n",
        "for _ in range(trials):\n",
        "  if random.choice([\"Heads\", \"Tails\"]) == \"Heads\":\n",
        "    heads+= 1\n",
        "probability = heads/trials\n",
        "print(probability)"
      ]
    },
    {
      "cell_type": "markdown",
      "metadata": {
        "id": "ofanp9-INW8o"
      },
      "source": [
        "## EXERCISE: 3 CONDITIONAL PROBABILITY"
      ]
    },
    {
      "cell_type": "code",
      "execution_count": null,
      "metadata": {
        "id": "PpaVLtbiMJir"
      },
      "outputs": [],
      "source": [
        "face_cards = 12\n",
        "king = 4\n",
        "cond_prob = king / face_cards\n",
        "print(\"Probability of getting a king given it is a face card is\",cond_prob)"
      ]
    },
    {
      "cell_type": "code",
      "execution_count": null,
      "metadata": {
        "id": "LlC85ODzOTzo"
      },
      "outputs": [],
      "source": [
        "#IN-CLASS TASK\n",
        "# A standard deck has 52 cards. There are 12 face cards (Jack, Queen, King – 4 of each).\n",
        "# What is the probability that a card is a King given that it’s a face card?\n",
        "\n",
        "# Out of 100 days, it rained on 30 days.\n",
        "# On 25 of those rainy days, a person carried an umbrella.\n",
        "# What is the probability that they carried an umbrella given that it was raining?\n",
        "\n",
        "# Out of 80 students, 50 studied for the exam.\n",
        "# Out of those 50, 45 passed.\n",
        "# What is the probability a student passed given that they studied?"
      ]
    },
    {
      "cell_type": "markdown",
      "metadata": {
        "id": "7A2tGDPHRMoK"
      },
      "source": [
        "## Exercise 4: Addition Rule"
      ]
    },
    {
      "cell_type": "code",
      "execution_count": null,
      "metadata": {
        "colab": {
          "base_uri": "https://localhost:8080/"
        },
        "id": "bbC5Oq4CROwe",
        "outputId": "25524fc3-d0e2-4ab2-c4d4-f21cac40da64"
      },
      "outputs": [
        {
          "name": "stdout",
          "output_type": "stream",
          "text": [
            "0.6666666666666666\n"
          ]
        }
      ],
      "source": [
        "#Mutually exclusive events\n",
        "\n",
        "prob_even = 3 / 6\n",
        "prob_one = 1 / 6\n",
        "\n",
        "prob_even_or_one = prob_even + prob_one\n",
        "print(prob_even_or_one)\n",
        "\n",
        "# Task 4: Calculate the probability of drawing a heart or a club from a deck (13\n",
        "# hearts, 13 clubs, mutually exclusive). Print the result."
      ]
    },
    {
      "cell_type": "markdown",
      "metadata": {
        "id": "qDmANZCLSWBB"
      },
      "source": [
        "## Exercise 5: Multiplication Rule (Independent Events)"
      ]
    },
    {
      "cell_type": "code",
      "execution_count": null,
      "metadata": {
        "id": "2iOkS_VFSG6S"
      },
      "outputs": [
        {
          "ename": "",
          "evalue": "",
          "output_type": "error",
          "traceback": [
            "\u001b[1;31mRunning cells with 'Python 3.10.11' requires the ipykernel package.\n",
            "\u001b[1;31m<a href='command:jupyter.createPythonEnvAndSelectController'>Create a Python Environment</a> with the required packages.\n",
            "\u001b[1;31mOr install 'ipykernel' using the command: 'c:/Users/acer/AppData/Local/Microsoft/WindowsApps/python3.10.exe -m pip install ipykernel -U --user --force-reinstall'"
          ]
        }
      ],
      "source": [
        "# Note!!!! For independent events, the probability of both occurring is the product of their probabilities.\n",
        "\n",
        "prob_head = 0.5\n",
        "prob_two_heads = prob_head * prob_head\n",
        "print(prob_two_heads)\n",
        "\n",
        "# Task 5: Calculate the probability of rolling a 6 twice in a row with a six-sided\n",
        "# die. Print the result.\n",
        "# Question: What is the probability of getting head on a coin toss and 7 on a 6-sided die roll?"
      ]
    },
    {
      "cell_type": "markdown",
      "metadata": {
        "id": "MAAYEoW0VdjT"
      },
      "source": [
        "## Exercise 6: Dependent Events"
      ]
    },
    {
      "cell_type": "code",
      "execution_count": null,
      "metadata": {
        "id": "9CRUOXsPVexY"
      },
      "outputs": [],
      "source": [
        "#Lets calculate the probability of drawing two aces without replacement from a deck of 52 cards\n",
        "\n",
        "total_cards = 52\n",
        "ace_cards = 4\n",
        "\n",
        "prob_first_ace = ace_cards / total_cards\n",
        "prob_second_ace = (ace_cards - 1) / (total_cards - 1)\n",
        "\n",
        "prob_two_aces = prob_first_ace * prob_second_ace\n",
        "\n",
        "print(prob_two_aces)\n",
        "\n",
        "# Task 6: Calculate the probability of drawing two red cards without replace-\n",
        "# ment from a deck (26 red cards, 52 total). Print the result."
      ]
    }
  ],
  "metadata": {
    "colab": {
      "provenance": []
    },
    "kernelspec": {
      "display_name": "Python 3",
      "name": "python3"
    },
    "language_info": {
      "name": "python",
      "version": "3.10.11"
    }
  },
  "nbformat": 4,
  "nbformat_minor": 0
}

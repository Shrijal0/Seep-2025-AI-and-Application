{
  "cells": [
    {
      "cell_type": "markdown",
      "id": "b411cc69",
      "metadata": {
        "id": "b411cc69"
      },
      "source": [
        "Excerce 1 : Working with Scalars and Vectors"
      ]
    },
    {
      "cell_type": "code",
      "source": [
        "import numpy as np\n",
        "\n",
        "scaler = 9\n",
        "print(scaler)\n",
        "\n",
        "vector = np.array([3,6,8,45,19])\n",
        "print(vector)\n",
        "\n",
        "scaled_vector = scaler * vector\n",
        "print(\"Scaled vector =\",scaled_vector)\n",
        "\n",
        "print(\"Sum of scaler and vector\",scaler + vector)"
      ],
      "metadata": {
        "colab": {
          "base_uri": "https://localhost:8080/"
        },
        "id": "cOrNIhB-2BxI",
        "outputId": "789388d5-d28e-443e-b9ec-4a233e966baa"
      },
      "id": "cOrNIhB-2BxI",
      "execution_count": 2,
      "outputs": [
        {
          "output_type": "stream",
          "name": "stdout",
          "text": [
            "9\n",
            "[ 3  6  8 45 19]\n",
            "Scaled vector = [ 27  54  72 405 171]\n",
            "Sum of scaler and vector [12 15 17 54 28]\n"
          ]
        }
      ]
    },
    {
      "cell_type": "markdown",
      "id": "d6c01707",
      "metadata": {
        "id": "d6c01707"
      },
      "source": [
        "Matrix creation and simple operation"
      ]
    },
    {
      "cell_type": "code",
      "execution_count": 9,
      "id": "cb1b9652",
      "metadata": {
        "vscode": {
          "languageId": "plaintext"
        },
        "colab": {
          "base_uri": "https://localhost:8080/"
        },
        "id": "cb1b9652",
        "outputId": "c70d4442-9acc-4fe7-ef0b-90449801e014"
      },
      "outputs": [
        {
          "output_type": "stream",
          "name": "stdout",
          "text": [
            "sum [[ 3  5]\n",
            " [10 12]]\n",
            "diff [[-1 -1]\n",
            " [-2 -2]]\n",
            "multi [[14 17]\n",
            " [38 47]]\n"
          ]
        }
      ],
      "source": [
        "matrix1 = np.array([[1,2], [4,5]])\n",
        "matrix2 = np.array([[2,3], [6,7]])\n",
        "\n",
        "print(\"sum\",matrix1 + matrix2)\n",
        "print(\"diff\",matrix1 - matrix2)\n",
        "\n",
        "multi = np.dot(matrix1, matrix2)\n",
        "print(\"multi\",multi)"
      ]
    },
    {
      "cell_type": "code",
      "source": [
        "mat1 = np.array([[1, 2], [3, 4]])\n",
        "mat2 = np.array([[5, 6], [7, 8]])\n",
        "\n",
        "mat1_x_mat2 = np.array([\n",
        "    [mat1[0,0]*mat2[0,0] + mat1[0,1]*mat2[1,0],\n",
        "     mat1[0,0]*mat2[0,1] + mat1[0,1]*mat2[1,1]],\n",
        "\n",
        "    [mat1[1,0]*mat2[0,0] + mat1[1,1]*mat2[1,0],\n",
        "     mat1[1,0]*mat2[0,1] + mat1[1,1]*mat2[1,1]]\n",
        "])\n",
        "\n",
        "print(mat1_x_mat2)\n",
        "\n",
        "check = np.dot(mat1,mat2)\n",
        "print(check)"
      ],
      "metadata": {
        "id": "nOq5dUfC-SrX",
        "outputId": "f806e6aa-a56c-415a-9ea4-fd7ffc29b306",
        "colab": {
          "base_uri": "https://localhost:8080/"
        }
      },
      "id": "nOq5dUfC-SrX",
      "execution_count": 12,
      "outputs": [
        {
          "output_type": "stream",
          "name": "stdout",
          "text": [
            "[[19 22]\n",
            " [43 50]]\n",
            "[[19 22]\n",
            " [43 50]]\n"
          ]
        }
      ]
    }
  ],
  "metadata": {
    "language_info": {
      "name": "python"
    },
    "colab": {
      "provenance": []
    },
    "kernelspec": {
      "name": "python3",
      "display_name": "Python 3"
    }
  },
  "nbformat": 4,
  "nbformat_minor": 5
}
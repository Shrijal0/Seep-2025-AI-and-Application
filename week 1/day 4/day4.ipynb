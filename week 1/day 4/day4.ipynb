{
  "nbformat": 4,
  "nbformat_minor": 0,
  "metadata": {
    "colab": {
      "provenance": []
    },
    "kernelspec": {
      "name": "python3",
      "display_name": "Python 3"
    },
    "language_info": {
      "name": "python"
    }
  },
  "cells": [
    {
      "cell_type": "markdown",
      "source": [
        "#file handling  and exception\n",
        "\n",
        "opening and reading a file\n"
      ],
      "metadata": {
        "id": "VsTvdy8r4KyX"
      }
    },
    {
      "cell_type": "code",
      "execution_count": null,
      "metadata": {
        "colab": {
          "base_uri": "https://localhost:8080/"
        },
        "id": "9FQCTRuA31-h",
        "outputId": "ace6e8c8-7fce-4166-c7a1-e34a18261bdf"
      },
      "outputs": [
        {
          "output_type": "stream",
          "name": "stdout",
          "text": [
            "i am a student\n",
            "hello world\n",
            "how do you do\n"
          ]
        }
      ],
      "source": [
        "f = open(\"file.txt\",\"r\")\n",
        "print(f.read())\n",
        "f.close()"
      ]
    },
    {
      "cell_type": "code",
      "execution_count": null,
      "metadata": {
        "colab": {
          "base_uri": "https://localhost:8080/"
        },
        "outputId": "52447b40-d7b9-467f-d7a3-8a388283176f",
        "id": "M_zGjHHD6IdS"
      },
      "outputs": [
        {
          "output_type": "stream",
          "name": "stdout",
          "text": [
            "i am a student\n",
            "hel\n"
          ]
        }
      ],
      "source": [
        "f = open(\"file.txt\",\"r\")\n",
        "print(f.read(18))\n",
        "f.close()"
      ]
    },
    {
      "cell_type": "code",
      "source": [
        "with open(\"file.txt\",\"r\") as f:\n",
        "  print(f.read())"
      ],
      "metadata": {
        "id": "k1w5TctT7LXR"
      },
      "execution_count": null,
      "outputs": []
    },
    {
      "cell_type": "markdown",
      "source": [
        "#Write mode\n"
      ],
      "metadata": {
        "id": "FuJriFt06-6R"
      }
    },
    {
      "cell_type": "code",
      "source": [
        "f = open(\"file.txt\",\"w\")\n",
        "f.write(\"hello\")\n",
        "f.close()"
      ],
      "metadata": {
        "id": "YFzMpYO-7E69"
      },
      "execution_count": 19,
      "outputs": []
    },
    {
      "cell_type": "markdown",
      "source": [
        "#Apped Mode"
      ],
      "metadata": {
        "id": "Aeg1wJqG7hrw"
      }
    },
    {
      "cell_type": "code",
      "source": [
        " file = open(\"file.txt\",\"a\")\n",
        " file.write(\"\\n hello how are you\")\n",
        " file.close()"
      ],
      "metadata": {
        "id": "YFc8ODno7mLh"
      },
      "execution_count": 14,
      "outputs": []
    },
    {
      "cell_type": "markdown",
      "source": [
        "#Deleting file and folders\n"
      ],
      "metadata": {
        "id": "k92o96jR8N0C"
      }
    },
    {
      "cell_type": "code",
      "source": [
        "import os\n",
        "os.remove(\"file.txt\")\n"
      ],
      "metadata": {
        "id": "WB3k-5vv8U8s"
      },
      "execution_count": 20,
      "outputs": []
    },
    {
      "cell_type": "code",
      "source": [
        "os.rmdir(\"/content/delete_me\")"
      ],
      "metadata": {
        "id": "ej19QTtH8nav"
      },
      "execution_count": 21,
      "outputs": []
    },
    {
      "cell_type": "markdown",
      "source": [
        "#Basic Exception Handling"
      ],
      "metadata": {
        "id": "vCTtfdTO9JfX"
      }
    },
    {
      "cell_type": "code",
      "source": [
        "with open(\"number.txt\",\"r\") as f:\n",
        "  try:\n",
        "    lines = f.readlines()\n",
        "    number = [int(line.strip()) for line in lines]\n",
        "    print(sum(number))\n",
        "  except ValueError:\n",
        "    print(\"value error\")\n"
      ],
      "metadata": {
        "colab": {
          "base_uri": "https://localhost:8080/"
        },
        "id": "BXph5A1D9P4M",
        "outputId": "4cdd1cc0-3992-4fdd-827e-22d545b6ef84"
      },
      "execution_count": 26,
      "outputs": [
        {
          "output_type": "stream",
          "name": "stdout",
          "text": [
            "45\n"
          ]
        }
      ]
    }
  ]
}
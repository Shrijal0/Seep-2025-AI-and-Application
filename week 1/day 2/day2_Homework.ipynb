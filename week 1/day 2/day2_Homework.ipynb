{
  "cells": [
    {
      "cell_type": "markdown",
      "metadata": {
        "id": "6e-3huXdykEp"
      },
      "source": [
        "Age calculator\n"
      ]
    },
    {
      "cell_type": "code",
      "execution_count": 5,
      "metadata": {
        "colab": {
          "base_uri": "https://localhost:8080/"
        },
        "id": "qkGZAUbzyb_n",
        "outputId": "2c067443-fc6b-4587-8cf2-23e1b530eccd"
      },
      "outputs": [
        {
          "name": "stdout",
          "output_type": "stream",
          "text": [
            "Enter your birth year:1995\n",
            "you are 30 years old\n"
          ]
        }
      ],
      "source": [
        "import datetime #importing datetime module\n",
        "birth_year = int(input(\"Enter your birth year:\")) # asking for user input\n",
        "current_year = datetime.datetime.now()\n",
        "print(f\"you are {current_year.year-birth_year} years old\")\n"
      ]
    },
    {
      "cell_type": "markdown",
      "metadata": {
        "id": "N7ghYqnq1Mtf"
      },
      "source": [
        "Intrest Calculator\n"
      ]
    },
    {
      "cell_type": "code",
      "execution_count": 6,
      "metadata": {
        "colab": {
          "base_uri": "https://localhost:8080/"
        },
        "id": "qBCPQwhZ1SFn",
        "outputId": "69471d38-02bf-4068-b43b-f3713f89b660"
      },
      "outputs": [
        {
          "name": "stdout",
          "output_type": "stream",
          "text": [
            "enter the principal amount:10000\n",
            "enter the time in years:1\n",
            "enter the Rate of intrest:10\n",
            "Simple Intrest:1000.0\n"
          ]
        }
      ],
      "source": [
        "P = int(input(\"enter the principal amount:\"))\n",
        "T = int(input(\"enter the time in years:\"))\n",
        "R = int(input(\"enter the Rate of intrest:\"))\n",
        "SI = (P*T*R)/100\n",
        "print(f\"Simple Intrest:{SI}\")"
      ]
    },
    {
      "cell_type": "markdown",
      "metadata": {
        "id": "SWNEmR9_4Ji8"
      },
      "source": [
        "BMI Calculator\n"
      ]
    },
    {
      "cell_type": "code",
      "execution_count": 12,
      "metadata": {
        "colab": {
          "base_uri": "https://localhost:8080/"
        },
        "id": "FHAimuP24GEU",
        "outputId": "c42a3d14-fe4c-4924-a4b1-d6f38e9ffd49"
      },
      "outputs": [
        {
          "name": "stdout",
          "output_type": "stream",
          "text": [
            "Enter your weight in kg:80\n",
            "Enter your height in meters:1.8\n",
            "Your BMI is 24.691358024691358 you're weight is normal\n"
          ]
        }
      ],
      "source": [
        "w = float(input(\"Enter your weight in kg:\"))\n",
        "h = float(input(\"Enter your height in meters:\"))\n",
        "bmi = w/(h**2)\n",
        "if bmi<=18.5:\n",
        "  print(f\"Your BMI is {bmi} you're are underweight\")\n",
        "elif 18.5<bmi<25 :\n",
        "  print(f\"Your BMI is {bmi} you're weight is normal\")\n",
        "else :\n",
        "  print(f\"Your BMI is {bmi} you're overweight\")\n"
      ]
    },
    {
      "cell_type": "markdown",
      "metadata": {
        "id": "yOxqVziR97vX"
      },
      "source": [
        "Currency Converter"
      ]
    },
    {
      "cell_type": "code",
      "execution_count": null,
      "metadata": {},
      "outputs": [],
      "source": []
    },
    {
      "cell_type": "code",
      "execution_count": null,
      "metadata": {
        "colab": {
          "base_uri": "https://localhost:8080/"
        },
        "id": "_QxtvkiV-JH5",
        "outputId": "cb7ff196-bb59-44d7-eee2-8e35ab021898"
      },
      "outputs": [
        {
          "name": "stdout",
          "output_type": "stream",
          "text": [
            "Choose the currency to convert USD or NRP: usd\n",
            "Enter the amount of USD you want to convert to NRP: 136\n",
            "136 USD is equal to 18496 NRP\n"
          ]
        }
      ],
      "source": [
        "exchange = input(\"Choose the currency to convert USD or NRP: \")\n",
        "\n",
        "if exchange.upper() == \"USD\":\n",
        "    amount = int(input(\"Enter the amount of USD you want to convert to NRP: \"))\n",
        "    print(f\"{amount} USD is equal to {amount * 136} NRP\")\n",
        "elif exchange.upper() == \"NRP\":\n",
        "    amount = int(input(\"Enter the amount of NRP you want to convert to USD: \"))\n",
        "    print(f\"{amount} NRP is equal to {amount / 136} USD\")\n",
        "else:\n",
        "    print(\"Invalid currency. Please choose either 'USD' or 'NRP'.\")\n"
      ]
    }
  ],
  "metadata": {
    "colab": {
      "provenance": []
    },
    "kernelspec": {
      "display_name": "Python 3",
      "name": "python3"
    },
    "language_info": {
      "name": "python"
    }
  },
  "nbformat": 4,
  "nbformat_minor": 0
}

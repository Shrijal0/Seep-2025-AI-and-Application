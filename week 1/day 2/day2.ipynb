{
  "nbformat": 4,
  "nbformat_minor": 0,
  "metadata": {
    "colab": {
      "provenance": []
    },
    "kernelspec": {
      "name": "python3",
      "display_name": "Python 3"
    },
    "language_info": {
      "name": "python"
    }
  },
  "cells": [
    {
      "cell_type": "markdown",
      "source": [
        "**Day 2 coding**"
      ],
      "metadata": {
        "id": "1V82vvV3r70a"
      }
    },
    {
      "cell_type": "code",
      "source": [
        "print(\"this is my first code\")"
      ],
      "metadata": {
        "colab": {
          "base_uri": "https://localhost:8080/"
        },
        "id": "1czv_sTJsu6W",
        "outputId": "080de76b-84d7-4550-f9ce-b26c694917fc"
      },
      "execution_count": 1,
      "outputs": [
        {
          "output_type": "stream",
          "name": "stdout",
          "text": [
            "this is my first code\n"
          ]
        }
      ]
    },
    {
      "cell_type": "markdown",
      "source": [
        "Loops in python\n"
      ],
      "metadata": {
        "id": "j4tHjtJlt1ku"
      }
    },
    {
      "cell_type": "code",
      "source": [
        "for i in range(1,11):\n",
        "  print(i)"
      ],
      "metadata": {
        "colab": {
          "base_uri": "https://localhost:8080/"
        },
        "id": "WQIEITA1t_Au",
        "outputId": "ba590a77-c8a1-44d0-ee11-f845b0f69801"
      },
      "execution_count": 2,
      "outputs": [
        {
          "output_type": "stream",
          "name": "stdout",
          "text": [
            "1\n",
            "2\n",
            "3\n",
            "4\n",
            "5\n",
            "6\n",
            "7\n",
            "8\n",
            "9\n",
            "10\n"
          ]
        }
      ]
    },
    {
      "cell_type": "markdown",
      "source": [
        "square of above number"
      ],
      "metadata": {
        "id": "c2xcThc4uQbi"
      }
    },
    {
      "cell_type": "code",
      "source": [
        "for i in range(1,11):\n",
        "    print(i*i)"
      ],
      "metadata": {
        "colab": {
          "base_uri": "https://localhost:8080/"
        },
        "id": "OcCp6Xs6uWpi",
        "outputId": "da70e290-debb-4137-a2dd-7f0f18c0c274"
      },
      "execution_count": 5,
      "outputs": [
        {
          "output_type": "stream",
          "name": "stdout",
          "text": [
            "1\n",
            "4\n",
            "9\n",
            "16\n",
            "25\n",
            "36\n",
            "49\n",
            "64\n",
            "81\n",
            "100\n"
          ]
        }
      ]
    },
    {
      "cell_type": "markdown",
      "source": [
        "function in pythons"
      ],
      "metadata": {
        "id": "yf4W1ncBu3vt"
      }
    },
    {
      "cell_type": "code",
      "source": [
        "def calculate_square(length):\n",
        "  return length*length\n",
        "\n",
        "print(\"the area of first square:\",calculate_square(int(input(\"enter the length:\"))))"
      ],
      "metadata": {
        "colab": {
          "base_uri": "https://localhost:8080/"
        },
        "id": "D0rSV46Qu3F9",
        "outputId": "c6745e65-e108-4aa3-c128-98f421aa1ad4"
      },
      "execution_count": 9,
      "outputs": [
        {
          "output_type": "stream",
          "name": "stdout",
          "text": [
            "enter the length:167\n",
            "the area of first square: 27889\n"
          ]
        }
      ]
    },
    {
      "cell_type": "markdown",
      "source": [
        "**Homework: find area of circle**\n"
      ],
      "metadata": {
        "id": "7pAyvCoewr7i"
      }
    },
    {
      "cell_type": "markdown",
      "source": [
        "List in Python"
      ],
      "metadata": {
        "id": "oa3ZjUVQw0yM"
      }
    },
    {
      "cell_type": "code",
      "source": [
        "fruits = [\"apples\",\"banana\",\"mango\",\"watermelon\"]\n",
        "print(fruits)\n",
        "\n",
        "# print(fruits[0]) #first index\n",
        "# print(fruits[-1]) #last index\n",
        "# print(fruits[-2])\n",
        "\n",
        "#adding and removing\n",
        "fruits.append(\"pineapple\")\n",
        "print(fruits)\n",
        "fruits.remove(\"mango\")\n",
        "print(fruits)"
      ],
      "metadata": {
        "colab": {
          "base_uri": "https://localhost:8080/"
        },
        "id": "BWiadegcwxJD",
        "outputId": "22989c9f-0839-40d3-cb59-7f47d1d7deb1"
      },
      "execution_count": 14,
      "outputs": [
        {
          "output_type": "stream",
          "name": "stdout",
          "text": [
            "['apples', 'banana', 'mango', 'watermelon']\n",
            "['apples', 'banana', 'mango', 'watermelon', 'pineapple']\n",
            "['apples', 'banana', 'watermelon', 'pineapple']\n"
          ]
        }
      ]
    },
    {
      "cell_type": "markdown",
      "source": [
        "Sets and Tuples(home research)\n",
        "\n"
      ],
      "metadata": {
        "id": "6wUdfou-ypoB"
      }
    },
    {
      "cell_type": "markdown",
      "source": [
        "Dictionary in python\n"
      ],
      "metadata": {
        "id": "Hvdw004iw_Lt"
      }
    },
    {
      "cell_type": "code",
      "source": [
        "student ={\n",
        "    \"name\":\"shrijal\",\n",
        "    \"class\": 10,\n",
        "    \"gender\": \"male\"\n",
        "}\n",
        "#accessing values\n",
        "print(student[\"name\"])\n",
        "\n",
        "#updating values\n",
        "student[\"class\"] = \"12\"\n",
        "print(student)\n",
        "\n",
        "#adding new key-value\n",
        "student['rollno'] = 1\n",
        "print(student)\n",
        "\n",
        "#deleting key-value\n",
        "del student[\"class\"]\n",
        "print(student)"
      ],
      "metadata": {
        "colab": {
          "base_uri": "https://localhost:8080/"
        },
        "id": "AaPvdOity4Iq",
        "outputId": "682d5b2a-e700-4172-afc5-4b7c794f1530"
      },
      "execution_count": 20,
      "outputs": [
        {
          "output_type": "stream",
          "name": "stdout",
          "text": [
            "shrijal\n",
            "{'name': 'shrijal', 'class': '12', 'gender': 'male'}\n",
            "{'name': 'shrijal', 'class': '12', 'gender': 'male', 'rollno': 1}\n",
            "{'name': 'shrijal', 'gender': 'male', 'rollno': 1}\n"
          ]
        }
      ]
    }
  ]
}
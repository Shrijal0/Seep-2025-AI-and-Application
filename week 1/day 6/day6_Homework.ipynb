{
  "nbformat": 4,
  "nbformat_minor": 0,
  "metadata": {
    "colab": {
      "provenance": []
    },
    "kernelspec": {
      "name": "python3",
      "display_name": "Python 3"
    },
    "language_info": {
      "name": "python"
    }
  },
  "cells": [
    {
      "cell_type": "markdown",
      "source": [
        "# Hands-On Practice: Pandas and Matplotlib"
      ],
      "metadata": {
        "id": "PZSz-m2gEC0c"
      }
    },
    {
      "cell_type": "markdown",
      "source": [
        "## Exercise 1: Creating a Pandas Series\n",
        "#### Pandas Series = 1-D array with labels"
      ],
      "metadata": {
        "id": "S_KGKf-DZBH5"
      }
    },
    {
      "cell_type": "code",
      "execution_count": 3,
      "metadata": {
        "colab": {
          "base_uri": "https://localhost:8080/"
        },
        "id": "PQd2VjINEBYE",
        "outputId": "09d3dbbe-9994-4a54-fbdc-1a4ced344379"
      },
      "outputs": [
        {
          "output_type": "stream",
          "name": "stdout",
          "text": [
            "A    10\n",
            "B    20\n",
            "C    30\n",
            "D    40\n",
            "dtype: int64\n"
          ]
        }
      ],
      "source": [
        "# Task 1: Create a Pandas Series with values [10, 20, 30, 40] and indices [”A”,”B”, ”C”, ”D”]. Print the Series.\n",
        "import pandas as pd\n",
        "scores = pd.Series([10,20,30,40], index=[\"A\",\"B\",\"C\",\"D\"])\n",
        "print(scores)\n"
      ]
    },
    {
      "cell_type": "markdown",
      "source": [
        "## Exercise 2: Creating a Pandas DataFrame"
      ],
      "metadata": {
        "id": "fjFL3Dy8a2hL"
      }
    },
    {
      "cell_type": "markdown",
      "source": [
        "#### Dataframe is in a table format"
      ],
      "metadata": {
        "id": "Vh3RHt6Ua7Zq"
      }
    },
    {
      "cell_type": "code",
      "source": [
        "# Task 2: Create a DataFrame with columns ”City” ([”Paris”, ”Tokyo”, ”Sydney”]) and ”Population” ([2.1, 37.4, 5.3]). Print the DataFrame.\n",
        "data = {\n",
        "   \"City\":[\"Paris\",\"Tokyo\",\"Sydney\"],\n",
        "   \"Population\":[2.1,37.4,5.3]\n",
        "}\n",
        "df= pd.DataFrame(data)\n",
        "print(df)\n",
        "\n"
      ],
      "metadata": {
        "colab": {
          "base_uri": "https://localhost:8080/"
        },
        "id": "xU2drqKsaYLI",
        "outputId": "a75777d5-14e6-4fc4-aeeb-6452504c855d"
      },
      "execution_count": 4,
      "outputs": [
        {
          "output_type": "stream",
          "name": "stdout",
          "text": [
            "     City  Population\n",
            "0   Paris         2.1\n",
            "1   Tokyo        37.4\n",
            "2  Sydney         5.3\n"
          ]
        }
      ]
    },
    {
      "cell_type": "markdown",
      "source": [
        "## Exercise 3: Filtering Data in a DataFrame"
      ],
      "metadata": {
        "id": "tBl-k52bdbHI"
      }
    },
    {
      "cell_type": "code",
      "source": [
        "#Task 3: Create a DataFrame with columns ”Name” ([”Eve”, ”Frank”, ”Grace”]) and ”Age” ([19, 23, 20]). Filter rows where Age is greater than 20 and print theresult.\n",
        "data = {\n",
        "  \"Name\":[\"Eve\",\"Frank\",\"Grace\"],\n",
        "  \"Age\":[19,23,20]\n",
        "}\n",
        "\n",
        "df= pd.DataFrame(data)\n",
        "\n",
        "filter = df[df[\"Age\"] > 20]\n",
        "print(filter)"
      ],
      "metadata": {
        "colab": {
          "base_uri": "https://localhost:8080/"
        },
        "id": "pZRWuY7fceg6",
        "outputId": "171dc50e-c5ab-4c68-d783-c24d46ff56d4"
      },
      "execution_count": 5,
      "outputs": [
        {
          "output_type": "stream",
          "name": "stdout",
          "text": [
            "    Name  Age\n",
            "1  Frank   23\n"
          ]
        }
      ]
    },
    {
      "cell_type": "markdown",
      "source": [
        "## Exercise 4: Reading and Processing a CSV File"
      ],
      "metadata": {
        "id": "NIPzT-duepnm"
      }
    },
    {
      "cell_type": "code",
      "source": [
        "#Task 4: Simulate a CSV string with columns ”Product” ([”Apple”, ”Banana”,”Orange”]) and ”Price” ([1.0, 0.5, 0.75]). Read it into a DataFrame and print thesum of prices using df[”Price”].sum().\n",
        "import io\n",
        "\n",
        "csv_data = \"\"\"\n",
        "Product,Price\n",
        "Apple,1.0\n",
        "Banana,0.5\n",
        "Orange,0.75\n",
        "\"\"\"\n",
        "df = pd.read_csv(io.StringIO(csv_data))\n",
        "print(df)\n",
        "print(df[\"Price\"].sum())\n"
      ],
      "metadata": {
        "colab": {
          "base_uri": "https://localhost:8080/"
        },
        "id": "TN0O7vBpd0QQ",
        "outputId": "ff46963e-8c55-4342-8933-28d43ec63c34"
      },
      "execution_count": 6,
      "outputs": [
        {
          "output_type": "stream",
          "name": "stdout",
          "text": [
            "  Product  Price\n",
            "0   Apple   1.00\n",
            "1  Banana   0.50\n",
            "2  Orange   0.75\n",
            "2.25\n"
          ]
        }
      ]
    },
    {
      "cell_type": "markdown",
      "source": [
        "## Exercise 5: Basic Plotting with Matplotlib"
      ],
      "metadata": {
        "id": "ira0n56yhnNX"
      }
    },
    {
      "cell_type": "code",
      "source": [
        "import matplotlib.pyplot as plt\n",
        "\n",
        "#Defining Data For basic plotting\n",
        "x = [1,2,3,4,5]\n",
        "y= [2,4,6,8,10]\n",
        "\n",
        "plt.plot(x,y,marker='*')\n",
        "plt.title(\"Plotting Example\")\n",
        "plt.xlabel(\"X-Axis\")\n",
        "plt.ylabel(\"Y-Axis\")\n",
        "plt.grid(True)\n",
        "plt.savefig(\"my_first_plot.png\")\n",
        "plt.show()\n",
        "\n",
        "## Task 5: Create a line plot with x-values [0, 1, 2, 3] and y-values [0, 1, 4, 9]. Add\n",
        "# a title, labels, and grid, then save it as squareplot.png."
      ],
      "metadata": {
        "colab": {
          "base_uri": "https://localhost:8080/",
          "height": 472
        },
        "id": "NWKhM5lffrwm",
        "outputId": "77701976-e39d-4a37-8715-9979866befa7"
      },
      "execution_count": null,
      "outputs": [
        {
          "output_type": "display_data",
          "data": {
            "text/plain": [
              "<Figure size 640x480 with 1 Axes>"
            ],
            "image/png": "[encoded data removed]"
          },
          "metadata": {}
        }
      ]
    },
    {
      "cell_type": "markdown",
      "source": [
        "## Exercise 6: Visualizing a DataFrame with Matplotlib"
      ],
      "metadata": {
        "id": "Hc9Ts7CMkAZI"
      }
    },
    {
      "cell_type": "code",
      "source": [
        "# Task 6: Create a DataFrame with columns ”City” ([”London”, ”Paris”,\n",
        "# ”Tokyo”]) and ”Population” ([9.0, 2.1, 37.4]). Create a bar plot\n",
        "# of Population vs. City, add labels and a title, and save it as populationplot.png.\n",
        "data = {\n",
        "  \"City\":[\"London\",\"Paris\",\"Tokyo\"],\n",
        "  \"Population\":[9.0,2.1,37.4]\n",
        "}\n",
        "df = pd.DataFrame(data)\n",
        "df.plot(kind=\"bar\",x=\"City\",y=\"Population\")"
      ],
      "metadata": {
        "colab": {
          "base_uri": "https://localhost:8080/",
          "height": 503
        },
        "id": "FlTQr7gAiJ3V",
        "outputId": "c6839cdb-6cb6-4411-cb13-44c2f8438e4e"
      },
      "execution_count": 7,
      "outputs": [
        {
          "output_type": "execute_result",
          "data": {
            "text/plain": [
              "<Axes: xlabel='City'>"
            ]
          },
          "metadata": {},
          "execution_count": 7
        },
        {
          "output_type": "display_data",
          "data": {
            "text/plain": [
              "<Figure size 640x480 with 1 Axes>"
            ],
            "image/png": "[encoded data removed]"
          },
          "metadata": {}
        }
      ]
    },
    {
      "cell_type": "code",
      "source": [],
      "metadata": {
        "id": "Z5FT5gzskfVb"
      },
      "execution_count": null,
      "outputs": []
    }
  ]
}